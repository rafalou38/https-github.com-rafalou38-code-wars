{
  "nbformat": 4,
  "nbformat_minor": 0,
  "metadata": {
    "colab": {
      "name": "Roman Numerals Helper.ipynb",
      "provenance": [],
      "collapsed_sections": [],
      "authorship_tag": "ABX9TyOAsbxzKEBlHcQ3pwObfEiI",
      "include_colab_link": true
    },
    "kernelspec": {
      "name": "python3",
      "display_name": "Python 3"
    }
  },
  "cells": [
    {
      "cell_type": "markdown",
      "metadata": {
        "id": "view-in-github",
        "colab_type": "text"
      },
      "source": [
        "<a href=\"https://colab.research.google.com/github/rafalou38/code-wars/blob/main/Roman_Numerals_Helper.ipynb\" target=\"_parent\"><img src=\"https://colab.research.google.com/assets/colab-badge.svg\" alt=\"Open In Colab\"/></a>"
      ]
    },
    {
      "cell_type": "markdown",
      "metadata": {
        "id": "IYgYBe8WxX5y"
      },
      "source": [
        "[![alt my_badge](https://www.codewars.com/users/darkrab/badges/large)](https://www.codewars.com/users/darkrab)\n",
        "# Roman Numerals Helper <img src=\"https://res.cloudinary.com/dr844cxrp/image/upload/v1609613886/kyu/4_kyu_umoiyq.svg\" alt=\"4 kyu\">\n",
        "\n",
        "\n",
        "- *02/01/2021*\n",
        "- **url:** https://www.codewars.com/kata/51b66044bce5799a7f000003\n",
        "- **author:** jhoffner\n",
        "\n",
        "\n",
        "\n",
        "------\n",
        "##Task\n",
        "\n",
        "\n",
        "Create a RomanNumerals class that can convert a roman numeral to and from an integer value. It should follow the API demonstrated in the examples below. Multiple roman numeral values will be tested for each helper method.\n",
        "\n",
        "Modern Roman numerals are written by expressing each digit separately starting with the left most digit and skipping any digit with a value of zero. In Roman numerals 1990 is rendered: 1000=M, 900=CM, 90=XC; resulting in MCMXC. 2008 is written as 2000=MM, 8=VIII; or MMVIII. 1666 uses each Roman symbol in descending order: MDCLXVI.\n",
        "\n",
        "----------\n",
        "##Examples\n",
        "\n",
        "```python\n",
        "RomanNumerals.to_roman(1000) # should return 'M'\n",
        "RomanNumerals.from_roman('M') # should return 1000\n",
        "```\n",
        "\n",
        "-----\n",
        "#Help\n",
        "| Symbol | Value |\n",
        "| ------ |:-----:|\n",
        "| I      |  1    |\n",
        "| V      |  5    |\n",
        "| X      |  10   |\n",
        "| L      |  50   |\n",
        "| C      |  100  |\n",
        "| D      |  500  |\n",
        "| M      |  1000 |\n"
      ]
    },
    {
      "cell_type": "code",
      "metadata": {
        "id": "d9tf6YOG0ENE"
      },
      "source": [
        "class RomanNumerals:\n",
        "    romans = (\n",
        "        (\"IIIII\", \"V\"),\n",
        "        (\"IIII\", \"IV\"),\n",
        "        (\"VV\", \"X\"),\n",
        "        (\"VIV\", \"IX\"),\n",
        "        (\"XXXXX\", \"L\"),\n",
        "        (\"XXXX\", \"XL\"),\n",
        "        (\"LL\", \"C\"),\n",
        "        (\"LXL\", \"XC\"),\n",
        "        (\"CCCCC\", \"D\"),\n",
        "        (\"CCCC\", \"CD\"),\n",
        "        (\"DD\", \"M\"),\n",
        "        (\"DCD\", \"CM\"),\n",
        "    )\n",
        "    @classmethod\n",
        "    def to_roman(cls, number: str):\n",
        "        s = \"I\" * number\n",
        "\n",
        "        for roman in cls.romans:\n",
        "            s = s.replace(roman[0], roman[1])\n",
        "\n",
        "        return s\n",
        "    @classmethod\n",
        "    def from_roman(cls, s: str):\n",
        "\n",
        "        for roman in cls.romans[::-1]:\n",
        "            s = s.replace(roman[1], roman[0])\n",
        "        \n",
        "        r = s.count(\"I\")   \n",
        "        return r\n",
        "\n"
      ],
      "execution_count": null,
      "outputs": []
    },
    {
      "cell_type": "code",
      "metadata": {
        "colab": {
          "base_uri": "https://localhost:8080/"
        },
        "id": "mBSpQhNXwtTA",
        "outputId": "d022a14a-12b6-4840-8488-a03fdfca2cbd"
      },
      "source": [
        "import unittest\n",
        "\n",
        "class TestCode(unittest.TestCase):\n",
        "\n",
        "    def test_to_roman(test):\n",
        "      test.assertEqual(RomanNumerals.to_roman(1000), 'M', '1000 should == \"M\"')\n",
        "      test.assertEqual(RomanNumerals.to_roman(1990), 'MCMXC', '1990 should == \"MCMXC\"')\n",
        "    def test_from_roman(test):\n",
        "      test.assertEqual(RomanNumerals.from_roman('XXI'), 21, 'XXI should == 21')\n",
        "      test.assertEqual(RomanNumerals.from_roman('MMVIII'), 2008, 'MMVIII should == 2008')\n",
        "\n",
        "if __name__ == '__main__':\n",
        "    unittest.main(argv=['first-arg-is-ignored'], exit=False)"
      ],
      "execution_count": null,
      "outputs": [
        {
          "output_type": "stream",
          "text": [
            "..\n",
            "----------------------------------------------------------------------\n",
            "Ran 2 tests in 0.002s\n",
            "\n",
            "OK\n"
          ],
          "name": "stderr"
        }
      ]
    }
  ]
}